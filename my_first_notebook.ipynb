{
  "nbformat": 4,
  "nbformat_minor": 0,
  "metadata": {
    "colab": {
      "provenance": [],
      "authorship_tag": "ABX9TyOLCrwLwAdai/NCMOg6QVik",
      "include_colab_link": true
    },
    "kernelspec": {
      "name": "python3",
      "display_name": "Python 3"
    },
    "language_info": {
      "name": "python"
    }
  },
  "cells": [
    {
      "cell_type": "markdown",
      "metadata": {
        "id": "view-in-github",
        "colab_type": "text"
      },
      "source": [
        "<a href=\"https://colab.research.google.com/github/Pfrancisco22/my-first-repository/blob/main/my_first_notebook.ipynb\" target=\"_parent\"><img src=\"https://colab.research.google.com/assets/colab-badge.svg\" alt=\"Open In Colab\"/></a>"
      ]
    },
    {
      "cell_type": "code",
      "execution_count": 16,
      "metadata": {
        "colab": {
          "base_uri": "https://localhost:8080/"
        },
        "id": "_GeM5v9VlCB0",
        "outputId": "4e459efc-f04b-4ea0-bfca-a4eff6853a18"
      },
      "outputs": [
        {
          "output_type": "stream",
          "name": "stdout",
          "text": [
            "hola francisco\n",
            "15\n",
            "8\n",
            "9.375\n"
          ]
        }
      ],
      "source": [
        "name= \"francisco\"\n",
        "print(\"hola\" , name)\n",
        "a= 3\n",
        "b= 5\n",
        "c= a*b\n",
        "d= a+b\n",
        "print(c)\n",
        "print(d)\n",
        "print(c/d*b)\n",
        "\n",
        "\n",
        "\n"
      ]
    }
  ]
}